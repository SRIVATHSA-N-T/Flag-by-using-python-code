{
  "nbformat": 4,
  "nbformat_minor": 0,
  "metadata": {
    "colab": {
      "provenance": []
    },
    "kernelspec": {
      "name": "python3",
      "display_name": "Python 3"
    },
    "language_info": {
      "name": "python"
    }
  },
  "cells": [
    {
      "cell_type": "markdown",
      "source": [
        "\n",
        "\n",
        "---\n",
        "\n",
        "\n",
        "\n",
        "---\n",
        "\n"
      ],
      "metadata": {
        "id": "BkIOYyEODTmF"
      }
    },
    {
      "cell_type": "markdown",
      "source": [
        "# ***Proud_To_Be_An_INDIAN...***"
      ],
      "metadata": {
        "id": "w3k85126DI-1"
      }
    },
    {
      "cell_type": "markdown",
      "source": [
        "\n",
        "\n",
        "\n",
        "---\n",
        "\n",
        "\n",
        "\n",
        "---\n",
        "\n"
      ],
      "metadata": {
        "id": "i-75z5ghDUlD"
      }
    },
    {
      "cell_type": "code",
      "source": [
        "import numpy as np\n",
        "import matplotlib.pyplot as py\n",
        "import matplotlib.patches as patch\n",
        "#Plotting the tri colours in national flag\n",
        "a = patch.Rectangle((0,1), width=12, height=2, facecolor='green', edgecolor='grey')\n",
        "b = patch.Rectangle((0,3), width=12, height=2, facecolor='white', edgecolor='grey')\n",
        "c = patch.Rectangle((0,5), width=12, height=2, facecolor='#FF9933', edgecolor='grey')\n",
        "m,n = py.subplots()\n",
        "n.add_patch(a)\n",
        "n.add_patch(b)\n",
        "n.add_patch(c)\n",
        "#AshokChakra Circle\n",
        "radius=0.8\n",
        "py.plot(6,4, marker = 'o', markerfacecolor = '#000088ff', markersize = 9.5)\n",
        "chakra = py.Circle((6, 4), radius, color='#000088ff', fill=False, linewidth=7)\n",
        "n.add_artist(chakra)\n",
        "#24 spokes in AshokChakra\n",
        "for i in range(0,24):\n",
        "   p = 6 + radius/2 * np.cos(np.pi*i/12 + np.pi/48)\n",
        "   q = 6 + radius/2 * np.cos(np.pi*i/12 - np.pi/48)\n",
        "   r = 4 + radius/2 * np.sin(np.pi*i/12 + np.pi/48)\n",
        "   s = 4 + radius/2 * np.sin(np.pi*i/12 - np.pi/48)\n",
        "   t = 6 + radius * np.cos(np.pi*i/12)\n",
        "   u = 4 + radius * np.sin(np.pi*i/12)\n",
        "   n.add_patch(patch.Polygon([[6,4], [p,r], [t,u],[q,s]], fill=True, closed=True, color='#000088ff'))\n",
        "py.axis('equal')\n",
        "py.title(\"Proud_To_Be_An_INDIAN\")\n",
        "py.show()"
      ],
      "metadata": {
        "colab": {
          "base_uri": "https://localhost:8080/",
          "height": 281
        },
        "id": "T9zkdhVQobBl",
        "outputId": "64541f5b-7480-42cf-86ea-4632ba70ced2"
      },
      "execution_count": 1,
      "outputs": [
        {
          "output_type": "display_data",
          "data": {
            "text/plain": [
              "<Figure size 432x288 with 1 Axes>"
            ],
            "image/png": "[encoded data removed]"
          },
          "metadata": {
            "needs_background": "light"
          }
        }
      ]
    },
    {
      "cell_type": "markdown",
      "source": [
        "\n",
        "\n",
        "---\n",
        "\n",
        "\n",
        "\n",
        "---\n",
        "\n"
      ],
      "metadata": {
        "id": "DP7AX3L_Cyul"
      }
    },
    {
      "cell_type": "markdown",
      "source": [
        "# ***PROUD_TO_BE_AN_INDIAN...***"
      ],
      "metadata": {
        "id": "AStX60f0C2SD"
      }
    },
    {
      "cell_type": "markdown",
      "source": [
        "\n",
        "\n",
        "---\n",
        "\n",
        "\n",
        "\n",
        "---\n",
        "\n"
      ],
      "metadata": {
        "id": "L6dsqd08DFhk"
      }
    }
  ]
}